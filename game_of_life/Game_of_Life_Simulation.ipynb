{
 "cells": [
  {
   "cell_type": "code",
   "execution_count": 1,
   "metadata": {},
   "outputs": [],
   "source": [
    "import numpy as np\n",
    "import game"
   ]
  },
  {
   "cell_type": "code",
   "execution_count": 2,
   "metadata": {},
   "outputs": [],
   "source": [
    "MAX_ITER = 2000\n",
    "MAX_SIZE = 200"
   ]
  },
  {
   "cell_type": "markdown",
   "metadata": {},
   "source": [
    "## Game of Life"
   ]
  },
  {
   "cell_type": "code",
   "execution_count": 9,
   "metadata": {},
   "outputs": [],
   "source": [
    "def visualize_game(board, max_size=MAX_SIZE, max_iter=MAX_ITER, filename=\"blaster_automaton.gif\"):\n",
    "    rules = game.Rules() # rules object\n",
    "    game_ = game.Game(game.State(board), rules, max_size) # game object\n",
    "    rw = game_.run_game(max_iter) # running the game\n",
    "    \n",
    "    # transform and visualize the results\n",
    "    res = game.results_to_array(rw, max_size)\n",
    "    game.save_gif(res, filename)\n",
    "    return filename"
   ]
  },
  {
   "cell_type": "code",
   "execution_count": 10,
   "metadata": {},
   "outputs": [
    {
     "data": {
      "text/plain": [
       "'blaster_automaton.gif'"
      ]
     },
     "execution_count": 10,
     "metadata": {},
     "output_type": "execute_result"
    }
   ],
   "source": [
    "visualize_game(game.board_blaster)"
   ]
  },
  {
   "cell_type": "markdown",
   "metadata": {},
   "source": [
    "![SegmentLocal](blaster_automaton.gif \"segment\")"
   ]
  },
  {
   "cell_type": "code",
   "execution_count": 11,
   "metadata": {},
   "outputs": [
    {
     "data": {
      "text/plain": [
       "'beehives.gif'"
      ]
     },
     "execution_count": 11,
     "metadata": {},
     "output_type": "execute_result"
    }
   ],
   "source": [
    "board_beehives = {(40, 40),(41, 39),(42, 39),(43, 40),(41, 41),(42, 41),(40,41)}\n",
    "\n",
    "visualize_game(board_beehives, filename=\"beehives.gif\")"
   ]
  },
  {
   "cell_type": "markdown",
   "metadata": {},
   "source": [
    "![SegmentLocal](beehives.gif \"segment\")"
   ]
  },
  {
   "cell_type": "markdown",
   "metadata": {},
   "source": [
    "## High Life"
   ]
  },
  {
   "cell_type": "code",
   "execution_count": 3,
   "metadata": {},
   "outputs": [],
   "source": [
    "def visualize_highlife(board, max_size=MAX_SIZE, max_iter=2000, filename=\"blaster_automaton.gif\"):\n",
    "    rules = game.HighlifeRules() # rules object\n",
    "    game_ = game.Game(game.State(board), rules, max_size) # game object\n",
    "    rw = game_.run_game(max_iter) # running the game\n",
    "    \n",
    "    # transform and visualize the results\n",
    "    res = game.results_to_array(rw, max_size)\n",
    "    game.save_gif(res, filename)\n",
    "    return filename"
   ]
  },
  {
   "cell_type": "code",
   "execution_count": 7,
   "metadata": {},
   "outputs": [
    {
     "data": {
      "text/plain": [
       "'highlife_replicator.gif'"
      ]
     },
     "execution_count": 7,
     "metadata": {},
     "output_type": "execute_result"
    }
   ],
   "source": [
    "board = {(20, 20), (20, 21), (20, 22), (21, 23), (22, 23), (23, 23)}\n",
    "visualize_highlife(board, max_size=50, max_iter=2000, filename=\"highlife_replicator.gif\")"
   ]
  },
  {
   "cell_type": "markdown",
   "metadata": {},
   "source": [
    "![SegmentLocal](highlife_replicator.gif \"segment\")"
   ]
  }
 ],
 "metadata": {
  "kernelspec": {
   "display_name": "Python 3",
   "language": "python",
   "name": "python3"
  },
  "language_info": {
   "codemirror_mode": {
    "name": "ipython",
    "version": 3
   },
   "file_extension": ".py",
   "mimetype": "text/x-python",
   "name": "python",
   "nbconvert_exporter": "python",
   "pygments_lexer": "ipython3",
   "version": "3.7.3"
  }
 },
 "nbformat": 4,
 "nbformat_minor": 2
}
